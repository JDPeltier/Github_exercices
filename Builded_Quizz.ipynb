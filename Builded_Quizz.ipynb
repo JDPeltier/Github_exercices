{
 "cells": [
  {
   "cell_type": "markdown",
   "metadata": {
    "colab_type": "text",
    "id": "FY347VxWs_bJ"
   },
   "source": [
    "# Build a quizz\n",
    "\n",
    "---\n",
    "\n",
    "\n"
   ]
  },
  {
   "cell_type": "code",
   "execution_count": null,
   "metadata": {},
   "outputs": [],
   "source": [
    "# test ajout branche - 15h39a\n",
    "# Alex change - 16:29\n",
    "# new Alex change - 17:20\n",
    "# 240131 - 21:20 : change Alex\n",
    "# 240131 - 21:25 : change Alex"
   ]
  },
  {
   "cell_type": "code",
   "execution_count": null,
   "metadata": {},
   "outputs": [],
   "source": [
    "nb_de_chances = 3\n",
    "\n",
    "print(\"Voici notre quiz, tu as trois chances !\")\n",
    "question1= input(\"Combien de fois la France a gagné la coupe du monde ?\")\n",
    "\n",
    "while question1 != \"2\":\n",
    "    if nb_de_chances == 0:\n",
    "        print(\"Oh non ! Tu as perdu le jeu...\")\n",
    "        break\n",
    "    else:\n",
    "        nb_de_chances -= 1\n",
    "        print(\"Dommage ! Il te reste {} chances\".format(nb_de_chances))\n",
    "        question1 = input(\"Combien de fois la France a gagné la coupe du monde ?\")\n",
    "\n",
    "if nb_de_chances > 0:\n",
    "    question2 = input(\"Quand a été fondé Apple\")\n",
    "    while question2 != \"1976\":\n",
    "        if nb_de_chances == 0:\n",
    "            print(\"Oh non ! Tu as perdu le jeu...\")\n",
    "            break\n",
    "        else:\n",
    "            nb_de_chances -=1\n",
    "            print(\"Dommage ! Il te reste {} chances\".format(nb_de_chances))\n",
    "            question2 = input(\"Quand a été fondé Apple ?\")\n",
    "\n",
    "\n",
    "if nb_de_chances >0:\n",
    "    question3 = input(\"Qui a fondé SpaceX\")\n",
    "    question3 = question3.lower()\n",
    "    while question3 != \"elon musk\":\n",
    "        if nb_de_chances == 0:\n",
    "            print(\"Oh non ! Tu as perdu le jeu...\")\n",
    "            break\n",
    "        else:\n",
    "            nb_de_chances -=1\n",
    "            print(\"Dommage ! Il te reste {} chances\".format(nb_de_chances))\n",
    "            question3 = input(\"Qui a fondé SpaceX\")\n",
    "            question3 = question3.lower()\n",
    "    if question3 == \"elon musk\":\n",
    "        print(\"Bravo ! Tu as gagné le quiz !\")"
   ]
  },
  {
   "cell_type": "code",
   "execution_count": null,
   "metadata": {},
   "outputs": [],
   "source": []
  }
 ],
 "metadata": {
  "colab": {
   "name": "Construire un quiz - SOLUTIONS S1-1A.ipynb",
   "provenance": []
  },
  "kernelspec": {
   "display_name": "Python 3.7.6 64-bit (conda)",
   "metadata": {
    "interpreter": {
     "hash": "81922e58b9f0765dc46a2f2aae6246790c134fff12037142dafdcc4c4ca17485"
    }
   },
   "name": "python3"
  },
  "language_info": {
   "codemirror_mode": {
    "name": "ipython",
    "version": 3
   },
   "file_extension": ".py",
   "mimetype": "text/x-python",
   "name": "python",
   "nbconvert_exporter": "python",
   "pygments_lexer": "ipython3",
   "version": "3.10.13"
  }
 },
 "nbformat": 4,
 "nbformat_minor": 1
}
