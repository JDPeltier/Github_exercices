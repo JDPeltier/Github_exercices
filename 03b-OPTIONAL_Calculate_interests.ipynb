{
  "cells": [
    {
      "cell_type": "markdown",
      "metadata": {
        "colab_type": "text",
        "id": "1NCGks54kp_n"
      },
      "source": [
        "# How much do you get for your savings ?"
      ]
    },
    {
      "cell_type": "markdown",
      "metadata": {
        "colab_type": "text",
        "id": "75Xe4f7vksGZ"
      },
      "source": [
        "It is said that if Christopher Columbus had set aside €1 that he had left at 2% interest per year, today his heirs would no longer need to work to live their lives. Let's try to calculate the same thing for our savings. "
      ]
    },
    {
      "cell_type": "markdown",
      "metadata": {
        "colab_type": "text",
        "id": "v4ugjwIakv2c"
      },
      "source": [
        "1. So let's create a function that will allow us to know how much money a user will have in total after a certain number of years.\n",
        "\n",
        "2. The user should be able to call the function which will then ask for :\n",
        "\n",
        "    1. The total amount he wishes to place\n",
        "    2. The number of years he wants to invest his money for\n",
        "    3. The rate of interest to which he is entitled\n",
        "    \n",
        "3. Pay attention to the errors that the user may enter.\n",
        "\n",
        "    4. If he enters a string of characters rather than a number, an error should be displayed.\n",
        "    5. If the user enters negative numbers, an error should also be output.\n",
        "    6. Finally, it is very likely that the user will write the interest rate as a percentage (e.g. 10%). Raise an error if this is the case, to prevent him from inputting a percentage.\n",
        "    \n",
        "4. Finally, the program should only show one number with a maximum of two digits after the decimal point.\n"
      ]
    },
    {
      "cell_type": "code",
      "execution_count": 19,
      "metadata": {
        "colab": {
          "base_uri": "https://localhost:8080/",
          "height": 173
        },
        "colab_type": "code",
        "id": "ovkcocqXkp2k",
        "outputId": "c6b46d9b-3503-4490-f19a-4a7e35194eea"
      },
      "outputs": [
        {
          "name": "stdout",
          "output_type": "stream",
          "text": [
            "Please enter only numbers!\n",
            "Please enter only numbers!\n",
            "Please enter only numbers!\n",
            "Please enter only numbers!\n",
            "total money you'll have = 1.6875\n",
            "Please enter only numbers!\n",
            "Please enter only numbers!\n",
            "Please enter only numbers!\n",
            "Please enter only numbers!\n",
            "Please enter only numbers!\n",
            "Please enter only numbers!\n"
          ]
        }
      ],
      "source": [
        "#A markdown I add to check how github works\n",
        "\n",
        "\n",
        "def savings():\n",
        "\n",
        "        try:\n",
        "            total_amount = float(input(\"How much do you want to place?\"))\n",
        "            nb_years = float(input(\"For how many years do you want to invest your money ?\"))\n",
        "            interest_rate = float(input(\"What rate of interest are you entitled ? \\n WARNING: You will have to put a decimal value \\n Ex: 10% --> 0.10\"))\n",
        "        except ValueError:\n",
        "            print(\"Please enter only numbers!\")\n",
        "        else:\n",
        "            if (total_amount < 0) or (nb_years <0) or (interest_rate < 0):\n",
        "                raise ValueError(\"You have entered one or more negative values. Please type positive values only\")\n",
        "            if interest_rate > 1:\n",
        "                raise ValueError (\"You've entered an interest rate greater than 1%. Please enter decimal value < 1 \")\n",
        "\n",
        "            total = total_amount*(1 + interest_rate)**(nb_years)\n",
        "            print(f\"total money you'll have = {total}\")\n",
        "\n",
        "savings()"
      ]
    },
    {
      "cell_type": "code",
      "execution_count": 9,
      "metadata": {},
      "outputs": [
        {
          "name": "stdout",
          "output_type": "stream",
          "text": [
            "Please enter a valid number.\n",
            "Total money you'll have = 36.78\n"
          ]
        }
      ],
      "source": [
        "def get_positive_float(prompt):\n",
        "    while True:\n",
        "        try:\n",
        "            value = float(input(prompt))\n",
        "            if value >= 0:\n",
        "                return value\n",
        "            else:\n",
        "                raise ValueError(\"Please enter a non-negative value.\")\n",
        "        except ValueError:\n",
        "            print(\"Please enter a valid number.\")\n",
        "\n",
        "def savings():\n",
        "    total_amount = get_positive_float(\"How much do you want to place? \")\n",
        "    nb_years = get_positive_float(\"For how many years do you want to invest your money? \")\n",
        "    \n",
        "    while True:\n",
        "        try:\n",
        "            interest_rate = float(input(\"What rate of interest are you entitled to? (Enter as a decimal, e.g., 10% -> 0.10) \"))\n",
        "            if 0 <= interest_rate <= 1:\n",
        "                break\n",
        "            else:\n",
        "                print(\"Please enter a valid interest rate as a decimal value between 0 and 1.\")\n",
        "        except ValueError:\n",
        "            print(\"Please enter a valid number.\")\n",
        "\n",
        "    total = total_amount * (1 + interest_rate) ** nb_years\n",
        "    print(f\"Total money you'll have = {total:.2f}\")\n",
        "\n",
        "savings()"
      ]
    },
    {
      "cell_type": "code",
      "execution_count": 5,
      "metadata": {
        "colab": {},
        "colab_type": "code",
        "id": "K_2poSknltX4",
        "tags": []
      },
      "outputs": [
        {
          "name": "stdout",
          "output_type": "stream",
          "text": [
            "1000.0\n",
            "10.0\n",
            "0.1\n",
            "The total amount of money you will have after you deposit 1000.00 at the end of 10.0 years will be 2593.74 €\n"
          ]
        }
      ],
      "source": []
    },
    {
      "cell_type": "code",
      "execution_count": null,
      "metadata": {},
      "outputs": [],
      "source": [
        "#Alex's Code\n",
        "\n",
        "def money():\n",
        "    error_amount = True\n",
        "    while error_amount:\n",
        "        try:\n",
        "            total_amount = float(input(\"what is the total amount you want to place ? \"))\n",
        "            if type(total_amount) != float or total_amount <= 0:\n",
        "                raise ValueError\n",
        "            else:\n",
        "                error_amount = False\n",
        "        except ValueError:\n",
        "            print(\"Incorrect value, please enter only a positive number ! \")\n",
        "\n",
        "    error_years = True\n",
        "    while error_years:\n",
        "        try:\n",
        "            number_years = float(input(\"what is the number of years you want to invest your money ? \"))\n",
        "            if type(number_years) != float or number_years <= 0:\n",
        "                raise ValueError\n",
        "            else:\n",
        "                error_years = False\n",
        "        except ValueError:\n",
        "            print(\"Incorrect value, please enter only a positive number ! \")\n",
        "\n",
        "    error_rate = True\n",
        "    while error_rate:\n",
        "        try:\n",
        "            rate_interest = float(input(\"What is the rate of interest to which you are entitled ? (Enter as a decimal, e.g., 10% -> 0.10) \"))\n",
        "            if type(rate_interest) != float or rate_interest <= 0 or rate_interest > 1:\n",
        "                raise ValueError\n",
        "            else:\n",
        "                error_rate = False\n",
        "        except ValueError:\n",
        "            print(\"Incorrect value, please enter a value between 0 and 1 ! (Enter as a decimal, e.g., 10% -> 0.10) \")\n",
        "\n",
        "    total = total_amount*(1+rate_interest)**number_years\n",
        "    if total_amount == int(total_amount):\n",
        "        total_amount = int(total_amount)\n",
        "    if number_years == int(number_years):\n",
        "        number_years = int(number_years)\n",
        "    print(f\"The total amount of money you will have after you deposit {total_amount} at the end of {number_years} years will be {total:.2f} €\")"
      ]
    }
  ],
  "metadata": {
    "colab": {
      "name": "Fondamentaux Python - Mini Projets S1-2B.ipynb",
      "provenance": [],
      "version": "0.3.2"
    },
    "kernelspec": {
      "display_name": "Python 3",
      "name": "python3"
    },
    "language_info": {
      "codemirror_mode": {
        "name": "ipython",
        "version": 3
      },
      "file_extension": ".py",
      "mimetype": "text/x-python",
      "name": "python",
      "nbconvert_exporter": "python",
      "pygments_lexer": "ipython3",
      "version": "3.10.13"
    }
  },
  "nbformat": 4,
  "nbformat_minor": 0
}
